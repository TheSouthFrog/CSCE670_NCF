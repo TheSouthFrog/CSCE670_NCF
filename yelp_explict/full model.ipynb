{
 "cells": [
  {
   "cell_type": "code",
   "execution_count": null,
   "metadata": {},
   "outputs": [
    {
     "name": "stderr",
     "output_type": "stream",
     "text": [
      "/opt/cloudera/parcels/Anaconda/envs/jupyterHub/lib/python3.6/site-packages/ipykernel_launcher.py:50: UserWarning: Update your `Dense` call to the Keras 2 API: `Dense(1, activation=\"sigmoid\", name=\"main_output\", kernel_initializer=\"lecun_uniform\")`\n",
      "/opt/cloudera/parcels/Anaconda/envs/jupyterHub/lib/python3.6/site-packages/ipykernel_launcher.py:52: UserWarning: Update your `Model` call to the Keras 2 API: `Model(inputs=[<tf.Tenso..., outputs=Tensor(\"ma...)`\n"
     ]
    },
    {
     "name": "stdout",
     "output_type": "stream",
     "text": [
      "Epoch 1/10\n",
      "5965014/5965014 [==============================] - 93s - loss: 0.2610 - acc: 0.8863    \n",
      "Epoch 2/10\n",
      "5965014/5965014 [==============================] - 93s - loss: 0.2302 - acc: 0.9000    \n",
      "Epoch 3/10\n",
      "5965014/5965014 [==============================] - 93s - loss: 0.2146 - acc: 0.9078    \n",
      "Epoch 4/10\n",
      "5965014/5965014 [==============================] - 93s - loss: 0.2061 - acc: 0.9118    \n",
      "Epoch 5/10\n",
      "5965014/5965014 [==============================] - 92s - loss: 0.2012 - acc: 0.9142    \n",
      "Epoch 6/10\n",
      "5965014/5965014 [==============================] - 93s - loss: 0.1976 - acc: 0.9160    \n",
      "Epoch 7/10\n",
      "5965014/5965014 [==============================] - 92s - loss: 0.1948 - acc: 0.9173    \n",
      "Epoch 8/10\n",
      "5965014/5965014 [==============================] - 92s - loss: 0.1924 - acc: 0.9185    \n",
      "Epoch 9/10\n",
      "5965014/5965014 [==============================] - 92s - loss: 0.1905 - acc: 0.9195    \n",
      "Epoch 10/10\n",
      "5965014/5965014 [==============================] - 92s - loss: 0.1889 - acc: 0.9202    \n"
     ]
    }
   ],
   "source": [
    "from keras.models import Model\n",
    "from keras.layers import Dense, Input,concatenate, Flatten, Embedding\n",
    "import numpy as np\n",
    "import ncf_helper as helper\n",
    "from keras.optimizers import Adagrad, Adam\n",
    "from keras.regularizers import l2\n",
    "from keras import initializers\n",
    "\n",
    "num_predictive_factors = 8\n",
    "\n",
    "#def init_normal( name=None):\n",
    "#    return initializers.RandomNormal(mean = 0.0, stddev=0.01, seed=None)\n",
    "#initializations.normal(shape, scale=0.01, name=name)\n",
    "\n",
    "# embedding size is 2 * num_predictive_factors if MLP is 3 layered\n",
    "\n",
    "interaction_mx = np.load('input/int_mat.npy')\n",
    "# load data\n",
    "inputs, labels = helper.training_data_generation('input/training_data.npy',interaction_mx, 5)\n",
    "#https://datascience.stackexchange.com/questions/13428/what-is-the-significance-of-model-merging-in-keras\n",
    "user_input = Input(shape=(1,),name='user_input')\n",
    "#item_input = Input(shape=(len(one_hot_movies),),name='item_input')\n",
    "item_input = Input(shape=(1,),name='item_input')\n",
    "user_embed = Flatten()(Embedding(interaction_mx.shape[0] + 1,\n",
    "                                 num_predictive_factors * 2,\n",
    "                                 #W_regularizer = l2(0.01),\n",
    "                                 input_length=1,\n",
    "                                 #dropout = 0.3,\n",
    "                                 name = 'MLP_user_embed', \n",
    "                                 embeddings_initializer = initializers.RandomNormal(mean = 0.0, stddev=0.01, seed=None))(user_input))\n",
    "item_embed = Flatten()(Embedding(interaction_mx.shape[1] + 1,\n",
    "                                 num_predictive_factors * 2,\n",
    "                                 #W_regularizer = l2(0.01),\n",
    "                                 input_length=1,\n",
    "                                 #dropout = 0.3,\n",
    "                                 name = 'MLP_item_embed',\n",
    "                                 embeddings_initializer = initializers.RandomNormal(mean = 0.0, stddev=0.01, seed=None))(item_input))\n",
    "merged_embed = concatenate([user_embed, item_embed], axis=1)\n",
    "mlp_1 = Dense(32, activation='relu',\n",
    "              #W_regularizer = l2(0.01),\n",
    "              name='mlp_1')(merged_embed)\n",
    "mlp_2 = Dense(16, activation='relu',\n",
    "              #W_regularizer = l2(0.01),\n",
    "              name='mlp_2')(mlp_1)\n",
    "mlp_3 = Dense(8, activation='relu',\n",
    "              #W_regularizer = l2(0.01),\n",
    "              name='mlp_3')(mlp_2)\n",
    "main_output = Dense(1,\n",
    "                    #W_regularizer = l2(0.01),\n",
    "                    activation='sigmoid',init='lecun_uniform',name='main_output')(mlp_3)\n",
    "\n",
    "model = Model(inputs=[user_input, item_input], output=main_output)\n",
    "model.compile(optimizer='Adam',\n",
    "              loss='binary_crossentropy',\n",
    "              metrics=['accuracy'])\n",
    "\n",
    "model.fit(inputs, labels, batch_size = 256, epochs = 10)\n",
    "\n",
    "#Save weights for full_model\n",
    "#Save weights for full_model\n",
    "wmlp1= model.get_layer('mlp_1').get_weights()\n",
    "np.save('MLP_WE/mlp_1_weights_array0', wmlp1[0])\n",
    "np.save('MLP_WE/mlp_1_weights_array1', wmlp1[1])\n",
    "np.save('MLP_WE/mlp_2_weights',model.get_layer('mlp_2').get_weights());\n",
    "np.save('MLP_WE/mlp_3_weights',model.get_layer('mlp_3').get_weights());\n",
    "np.save('MLP_WE/mlp_user_embed_weights',model.get_layer('MLP_user_embed').get_weights());\n",
    "np.save('MLP_WE/mlp_item_embed_weights',model.get_layer('MLP_item_embed').get_weights());"
   ]
  },
  {
   "cell_type": "code",
   "execution_count": null,
   "metadata": {},
   "outputs": [
    {
     "name": "stderr",
     "output_type": "stream",
     "text": [
      "/opt/cloudera/parcels/Anaconda/envs/jupyterHub/lib/python3.6/site-packages/ipykernel_launcher.py:39: UserWarning: Update your `Model` call to the Keras 2 API: `Model(inputs=[<tf.Tenso..., outputs=Tensor(\"ma...)`\n"
     ]
    },
    {
     "name": "stdout",
     "output_type": "stream",
     "text": [
      "Epoch 1/10\n",
      "5965014/5965014 [==============================] - 68s - loss: 0.2696 - acc: 0.8850    \n",
      "Epoch 2/10\n",
      "5965014/5965014 [==============================] - 68s - loss: 0.2174 - acc: 0.9071    \n",
      "Epoch 3/10\n",
      "5965014/5965014 [==============================] - 68s - loss: 0.2029 - acc: 0.9140    \n",
      "Epoch 4/10\n",
      "5965014/5965014 [==============================] - 68s - loss: 0.1936 - acc: 0.9184    \n",
      "Epoch 5/10\n",
      "5965014/5965014 [==============================] - 67s - loss: 0.1828 - acc: 0.9233    \n",
      "Epoch 7/10\n",
      "5965014/5965014 [==============================] - 68s - loss: 0.1800 - acc: 0.9247    \n",
      "Epoch 8/10\n",
      "5965014/5965014 [==============================] - 68s - loss: 0.1780 - acc: 0.9256    \n",
      "Epoch 9/10\n",
      "5965014/5965014 [==============================] - 68s - loss: 0.1765 - acc: 0.9262    \n",
      "Epoch 10/10\n",
      "5965014/5965014 [==============================] - 68s - loss: 0.1754 - acc: 0.9267    \n"
     ]
    }
   ],
   "source": [
    "from keras.models import Model\n",
    "from keras.layers import Dense, Activation,Embedding,Input,concatenate,multiply,Flatten\n",
    "import numpy as np\n",
    "import ncf_helper as helper\n",
    "import keras.layers as layers\n",
    "from keras import initializers\n",
    "\n",
    "\n",
    "num_predictive_factors = 8\n",
    "batch_size = 2\n",
    "# embedding size is 2 * num_predictive_factors if MLP is 3 layered\n",
    "\n",
    "# load data\n",
    "interaction_mx = np.load('input/int_mat.npy')\n",
    "inputs, labels = helper.training_data_generation('input/training_data.npy',interaction_mx, 5)\n",
    "\n",
    "#https://datascience.stackexchange.com/questions/13428/what-is-the-significance-of-model-merging-in-keras\n",
    "user_input = Input(shape=(1,),name='user_input')\n",
    "item_input = Input(shape=(1,),name='item_input')\n",
    "\n",
    "user_embed = Flatten()(Embedding(interaction_mx.shape[0] + 1,\n",
    "                                 num_predictive_factors * 2,\n",
    "                                 #W_regularizer = l2(0.01),\n",
    "                                 input_length=1,\n",
    "                                 #dropout = 0.3,\n",
    "                                 name = \"user_embed\",\n",
    "                                 embeddings_initializer = initializers.RandomNormal(mean = 0.0, stddev=0.01, seed=None))(user_input))\n",
    "item_embed = Flatten()(Embedding(interaction_mx.shape[1] + 1,\n",
    "                                 num_predictive_factors * 2,\n",
    "                                 #W_regularizer = l2(0.01),\n",
    "                                 input_length=1,\n",
    "                                 #dropout = 0.3,\n",
    "                                 name = \"item_embed\",\n",
    "                                 embeddings_initializer = initializers.RandomNormal(mean = 0.0, stddev=0.01, seed=None))(item_input))\n",
    "merged_embed = multiply([user_embed, item_embed])\n",
    "\n",
    "main_output = Dense(1, activation='sigmoid',name='main_output')(merged_embed)\n",
    "\n",
    "model = Model(inputs=[user_input, item_input], output=main_output)\n",
    "model.compile(optimizer='Adam',\n",
    "              loss='binary_crossentropy',\n",
    "              metrics=['accuracy'])\n",
    "\n",
    "model.fit(inputs, labels, batch_size = 256, epochs = 10)\n",
    "\n",
    "user_embed_weights = model.get_layer('user_embed').get_weights()\n",
    "item_embed_weights = model.get_layer('item_embed').get_weights()\n",
    "main_output_weights = model.get_layer('main_output').get_weights()\n",
    "\n",
    "np.save('GMF_WE/GMF_user_embed.npy', user_embed_weights)\n",
    "np.save('GMF_WE/GMF_item_embed.npy', item_embed_weights)\n",
    "np.save('GMF_WE/GMF_output_layer.npy', main_output_weights)"
   ]
  },
  {
   "cell_type": "code",
   "execution_count": null,
   "metadata": {},
   "outputs": [
    {
     "name": "stderr",
     "output_type": "stream",
     "text": [
      "/opt/cloudera/parcels/Anaconda/envs/jupyterHub/lib/python3.6/site-packages/ipykernel_launcher.py:105: UserWarning: Update your `Model` call to the Keras 2 API: `Model(inputs=[<tf.Tenso..., outputs=Tensor(\"Ne...)`\n"
     ]
    },
    {
     "name": "stdout",
     "output_type": "stream",
     "text": [
      "Epoch 1/10\n",
      "5965014/5965014 [==============================] - 83s - loss: 0.1901 - acc: 0.9207    \n",
      "Epoch 2/10\n",
      "5965014/5965014 [==============================] - 82s - loss: 0.1796 - acc: 0.9247    \n",
      "Epoch 3/10\n",
      "5965014/5965014 [==============================] - 82s - loss: 0.1757 - acc: 0.9262    \n",
      "Epoch 4/10\n",
      "5965014/5965014 [==============================] - 82s - loss: 0.1734 - acc: 0.9271    \n",
      "Epoch 5/10\n",
      "5965014/5965014 [==============================] - 82s - loss: 0.1722 - acc: 0.9275    \n",
      "Epoch 6/10\n",
      "5965014/5965014 [==============================] - 82s - loss: 0.1715 - acc: 0.9278    \n",
      "Epoch 7/10\n",
      "5965014/5965014 [==============================] - 82s - loss: 0.1711 - acc: 0.9280    \n",
      "Epoch 8/10\n",
      "5965014/5965014 [==============================] - 82s - loss: 0.1709 - acc: 0.9281    \n",
      "Epoch 9/10\n",
      "5965014/5965014 [==============================] - 82s - loss: 0.1707 - acc: 0.9281    \n",
      "Epoch 10/10\n",
      "5965014/5965014 [==============================] - 82s - loss: 0.1706 - acc: 0.9281    \n"
     ]
    },
    {
     "data": {
      "text/plain": [
       "<keras.callbacks.History at 0x7f40a47a6a90>"
      ]
     },
     "execution_count": 18,
     "metadata": {},
     "output_type": "execute_result"
    }
   ],
   "source": [
    "\n",
    "# coding: utf-8\n",
    "\n",
    "# In[6]:\n",
    "\n",
    "from keras.models import Model\n",
    "from keras.layers import Dense, Activation,Embedding,Input,concatenate, multiply,Flatten\n",
    "import numpy as np\n",
    "import keras.layers as layers\n",
    "import ncf_helper as helper\n",
    "from keras.optimizers import Adagrad, Adam\n",
    "from keras.regularizers import l2\n",
    "from keras import initializers\n",
    "\n",
    "def load_weights(model):\n",
    "    model.get_layer('MLP_user_embed').set_weights(np.load('MLP_WE/mlp_user_embed_weights.npy'))\n",
    "    model.get_layer('MLP_item_embed').set_weights(np.load('MLP_WE/mlp_item_embed_weights.npy'))\n",
    "    \n",
    "    mlp1_0 = np.load('MLP_WE/mlp_1_weights_array0.npy')\n",
    "    mlp1_1 = np.load('MLP_WE/mlp_1_weights_array1.npy')    \n",
    "    model.get_layer('mlp_1').set_weights([mlp1_0,mlp1_1])\n",
    "    \n",
    "    model.get_layer('mlp_2').set_weights(np.load('MLP_WE/mlp_2_weights.npy'))\n",
    "    model.get_layer('mlp_3').set_weights(np.load('MLP_WE/mlp_3_weights.npy'))\n",
    "\n",
    "    model.get_layer('GMF_user_embed').set_weights(np.load('GMF_WE/GMF_user_embed.npy'))\n",
    "    model.get_layer('GMF_item_embed').set_weights(np.load('GMF_WE/GMF_item_embed.npy'))\n",
    "    #model.get_layer('GMF_main_output').set_weights(np.load('GMF_WE/GMF_output_layer.npy'))\n",
    "    \n",
    "    return model\n",
    "\n",
    "\n",
    "num_predictive_factors = 8\n",
    "batch_size = 256\n",
    "\n",
    "\n",
    "#----- MLP Model -----\n",
    "interaction_mx = np.load('input/int_mat.npy')\n",
    "# load data\n",
    "inputs, labels = helper.training_data_generation('input/training_data.npy',interaction_mx, 5)\n",
    "#https://datascience.stackexchange.com/questions/13428/what-is-the-significance-of-model-merging-in-keras\n",
    "user_input = Input(shape=(1,),name='user_input')\n",
    "#item_input = Input(shape=(len(one_hot_movies),),name='item_input')\n",
    "item_input = Input(shape=(1,),name='item_input')\n",
    "MLP_user_embed = Flatten()(Embedding(interaction_mx.shape[0] + 1,\n",
    "                                 num_predictive_factors * 2,\n",
    "                                 #W_regularizer = l2(0.01),\n",
    "                                 input_length=1,\n",
    "                                 #dropout = 0.3,\n",
    "                                 name='MLP_user_embed'\n",
    "                                 #embeddings_initializer = initializers.RandomNormal(mean = 0.0, stddev=0.01, seed=None)\n",
    "                                    )(user_input))\n",
    "MLP_item_embed = Flatten()(Embedding(interaction_mx.shape[1] + 1,\n",
    "                                 num_predictive_factors * 2,\n",
    "                                 #W_regularizer = l2(0.01),\n",
    "                                 input_length=1,\n",
    "                                 #dropout = 0.3,\n",
    "                                 name='MLP_item_embed'\n",
    "                                 #embeddings_initializer = initializers.RandomNormal(mean = 0.0, stddev=0.01, seed=None)\n",
    "                                    )(item_input))\n",
    "MLP_merged_embed = concatenate([MLP_user_embed, MLP_item_embed], axis=1)\n",
    "mlp_1 = Dense(32, activation='relu',\n",
    "              #W_regularizer = l2(0.01),\n",
    "              name='mlp_1')(MLP_merged_embed)\n",
    "mlp_2 = Dense(16, activation='relu',\n",
    "              #W_regularizer = l2(0.01),\n",
    "              name='mlp_2')(mlp_1)\n",
    "mlp_3 = Dense(8, activation='relu',\n",
    "              #W_regularizer = l2(0.01),\n",
    "              name='mlp_3')(mlp_2)\n",
    "\n",
    "#MLP_main_output = Dense(1, activation='sigmoid',name='MLP_main_output')(mlp_3)\n",
    "\n",
    "#----- GMF Model -----\n",
    "\n",
    "GMF_user_embed = Flatten()(Embedding(interaction_mx.shape[0] + 1,\n",
    "                                 num_predictive_factors * 2,\n",
    "                                 #W_regularizer = l2(0.01),\n",
    "                                 input_length=1,\n",
    "                                 #dropout = 0.3,\n",
    "                                 name='GMF_user_embed'\n",
    "                                 #embeddings_initializer = initializers.RandomNormal(mean = 0.0, stddev=0.01, seed=None)\n",
    "                                    )(user_input))\n",
    "GMF_item_embed = Flatten()(Embedding(interaction_mx.shape[1] + 1,\n",
    "                                 num_predictive_factors * 2,\n",
    "                                 #W_regularizer = l2(0.01),\n",
    "                                 input_length=1,\n",
    "                                 #dropout = 0.3,\n",
    "                                 name='GMF_item_embed'\n",
    "                                 #embeddings_initializer = initializers.RandomNormal(mean = 0.0, stddev=0.01, seed=None)\n",
    "                                    )(item_input))\n",
    "GMF_merged_embed = multiply([GMF_user_embed, GMF_item_embed])\n",
    "\n",
    "#GMF_main_output = Dense(1, activation='sigmoid',name='GMF_main_output')(GMF_merged_embed)\n",
    "\n",
    "#Concatenate with GMF last layer\n",
    "#MLP_input = Input(shape=(len(one_hot_users),),name='MLP_input') #This may be necessary\n",
    "gmf_mlp_concatenated = concatenate([mlp_3, GMF_merged_embed], axis=1);\n",
    "\n",
    "\n",
    "#Feed previous concatenate to NeuMF Layer\n",
    "NeuMF = Dense(16, activation='sigmoid', name='NeuMF')(gmf_mlp_concatenated)\n",
    "NeuMF_main_output = Dense(1, activation='sigmoid',name='NeuMF_main_output')(NeuMF)\n",
    "\n",
    "model = Model(inputs=[user_input, item_input], output=NeuMF_main_output)\n",
    "\n",
    "model = load_weights(model)\n",
    "\n",
    "model.compile(optimizer='sgd',\n",
    "              loss='binary_crossentropy',\n",
    "              metrics=['accuracy'])\n",
    "\n",
    "model.fit(inputs, labels, batch_size = 256, epochs = 10)\n"
   ]
  },
  {
   "cell_type": "code",
   "execution_count": 20,
   "metadata": {},
   "outputs": [
    {
     "name": "stdout",
     "output_type": "stream",
     "text": [
      "accuracy rate of: 0.6317880794701987\n"
     ]
    }
   ],
   "source": [
    "test = helper.evaluate_integer_input('input/testing_data.npy', model, 'hit_rate', 'input/int_mat.npy')\n",
    "print('accuracy rate of: ' + str(test))"
   ]
  },
  {
   "cell_type": "code",
   "execution_count": 21,
   "metadata": {
    "collapsed": true
   },
   "outputs": [],
   "source": [
    "model.save('full_model_first_run.h5')"
   ]
  },
  {
   "cell_type": "code",
   "execution_count": 19,
   "metadata": {},
   "outputs": [
    {
     "name": "stdout",
     "output_type": "stream",
     "text": [
      "hello world\n"
     ]
    }
   ],
   "source": [
    "print('hello world')"
   ]
  },
  {
   "cell_type": "code",
   "execution_count": null,
   "metadata": {
    "collapsed": true
   },
   "outputs": [],
   "source": []
  }
 ],
 "metadata": {
  "kernelspec": {
   "display_name": "Python 3",
   "language": "python",
   "name": "python3"
  },
  "language_info": {
   "codemirror_mode": {
    "name": "ipython",
    "version": 3
   },
   "file_extension": ".py",
   "mimetype": "text/x-python",
   "name": "python",
   "nbconvert_exporter": "python",
   "pygments_lexer": "ipython3",
   "version": "3.6.1"
  }
 },
 "nbformat": 4,
 "nbformat_minor": 2
}
