{
 "cells": [
  {
   "cell_type": "code",
   "execution_count": 1,
   "metadata": {},
   "outputs": [
    {
     "name": "stderr",
     "output_type": "stream",
     "text": [
      "Using Theano backend.\n"
     ]
    }
   ],
   "source": [
    "from keras.models import Model\n",
    "from keras.layers import Dense, Activation,Embedding,Input,concatenate\n",
    "import numpy as np\n",
    "import keras.layers as layers"
   ]
  },
  {
   "cell_type": "code",
   "execution_count": null,
   "metadata": {
    "collapsed": true
   },
   "outputs": [],
   "source": [
    "num_predictive_factors = 8\n",
    "# embedding size is 2 * num_predictive_factors if MLP is 3 layered\n",
    "\n",
    "# generate fake data\n",
    "num_users = 20\n",
    "num_items = 30\n",
    "dummy_user_data = np.zeros(num_users)\n",
    "dummy_item_data = np.zeros(num_items)\n",
    "dummy_item_data[np.random.randint(len(dummy_item_data) + 1)] = 1\n",
    "dummy_user_data[np.random.randint(len(dummy_user_data) + 1)] = 1\n",
    "\n",
    "#https://datascience.stackexchange.com/questions/13428/what-is-the-significance-of-model-merging-in-keras\n",
    "user_input = Input(shape=(num_users,))\n",
    "item_input = Input(shape=(num_items,))\n",
    "user_embed = Embedding(2, num_predictive_factors * 2, input_length=num_users)(user_input)\n",
    "item_embed = Embedding(2, num_predictive_factors * 2, input_length=num_items)(item_input)\n",
    "merged_embed = concatenate([user_embed, item_embed], axis=1)\n",
    "mlp_1 = Dense(32, activation='relu')(merged_embed)\n",
    "mlp_2 = Dense(16, activation='relu')(mlp_1)\n",
    "mlp_3 = Dense(8, activation='relu')(mlp_2)\n",
    "main_output = Dense(1, activation='relu')(mlp_3)\n",
    "model = Model(inputs=[user_input, item_input], output = merged_embed)\n",
    "model.compile(optimizer='Adam',\n",
    "              loss='binary_crossentropy',\n",
    "              metrics=['accuracy'])\n"
   ]
  }
 ],
 "metadata": {
  "kernelspec": {
   "display_name": "Python 2",
   "language": "python",
   "name": "python2"
  },
  "language_info": {
   "codemirror_mode": {
    "name": "ipython",
    "version": 2
   },
   "file_extension": ".py",
   "mimetype": "text/x-python",
   "name": "python",
   "nbconvert_exporter": "python",
   "pygments_lexer": "ipython2",
   "version": "2.7.13"
  }
 },
 "nbformat": 4,
 "nbformat_minor": 2
}
