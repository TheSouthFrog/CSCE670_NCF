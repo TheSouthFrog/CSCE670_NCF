{
 "cells": [
  {
   "cell_type": "code",
   "execution_count": 2,
   "metadata": {},
   "outputs": [
    {
     "ename": "ValueError",
     "evalue": "not enough values to unpack (expected 2, got 1)",
     "output_type": "error",
     "traceback": [
      "\u001b[0;31m---------------------------------------------------------------------------\u001b[0m",
      "\u001b[0;31mValueError\u001b[0m                                Traceback (most recent call last)",
      "\u001b[0;32m<ipython-input-2-22846835829f>\u001b[0m in \u001b[0;36m<module>\u001b[0;34m()\u001b[0m\n\u001b[1;32m     12\u001b[0m \u001b[0;34m\u001b[0m\u001b[0m\n\u001b[1;32m     13\u001b[0m \u001b[0;31m# load data\u001b[0m\u001b[0;34m\u001b[0m\u001b[0;34m\u001b[0m\u001b[0m\n\u001b[0;32m---> 14\u001b[0;31m \u001b[0minputs\u001b[0m\u001b[0;34m,\u001b[0m \u001b[0mlabels\u001b[0m \u001b[0;34m=\u001b[0m \u001b[0mhelper\u001b[0m\u001b[0;34m.\u001b[0m\u001b[0mtraining_data_generation\u001b[0m\u001b[0;34m(\u001b[0m\u001b[0;34m'input/training_data.npy'\u001b[0m\u001b[0;34m,\u001b[0m\u001b[0;34m'int_mat.npy'\u001b[0m\u001b[0;34m,\u001b[0m\u001b[0;36m5\u001b[0m\u001b[0;34m)\u001b[0m\u001b[0;34m\u001b[0m\u001b[0m\n\u001b[0m\u001b[1;32m     15\u001b[0m \u001b[0minteraction_mx\u001b[0m \u001b[0;34m=\u001b[0m \u001b[0mnp\u001b[0m\u001b[0;34m.\u001b[0m\u001b[0mload\u001b[0m\u001b[0;34m(\u001b[0m\u001b[0;34m'input/int_mat.npy'\u001b[0m\u001b[0;34m)\u001b[0m\u001b[0;34m\u001b[0m\u001b[0m\n\u001b[1;32m     16\u001b[0m \u001b[0;34m\u001b[0m\u001b[0m\n",
      "\u001b[0;32m/home/haiping/notebooks/CSCE670_NCF/ncf_helper.py\u001b[0m in \u001b[0;36mtraining_data_generation\u001b[0;34m(fname, int_mx, times)\u001b[0m\n\u001b[1;32m     42\u001b[0m         \u001b[0mlabels\u001b[0m\u001b[0;34m.\u001b[0m\u001b[0mappend\u001b[0m\u001b[0;34m(\u001b[0m\u001b[0;36m1\u001b[0m\u001b[0;34m)\u001b[0m\u001b[0;34m\u001b[0m\u001b[0m\n\u001b[1;32m     43\u001b[0m     \u001b[0;31m#generate random samples\u001b[0m\u001b[0;34m\u001b[0m\u001b[0;34m\u001b[0m\u001b[0m\n\u001b[0;32m---> 44\u001b[0;31m     \u001b[0mrow\u001b[0m\u001b[0;34m,\u001b[0m \u001b[0mcolumn\u001b[0m \u001b[0;34m=\u001b[0m \u001b[0mnp\u001b[0m\u001b[0;34m.\u001b[0m\u001b[0mwhere\u001b[0m\u001b[0;34m(\u001b[0m\u001b[0mint_mx\u001b[0m \u001b[0;34m==\u001b[0m \u001b[0;36m0\u001b[0m\u001b[0;34m)\u001b[0m\u001b[0;34m\u001b[0m\u001b[0m\n\u001b[0m\u001b[1;32m     45\u001b[0m     \u001b[0mindices\u001b[0m \u001b[0;34m=\u001b[0m \u001b[0mlist\u001b[0m\u001b[0;34m(\u001b[0m\u001b[0mzip\u001b[0m\u001b[0;34m(\u001b[0m\u001b[0mrow\u001b[0m\u001b[0;34m,\u001b[0m \u001b[0mcolumn\u001b[0m\u001b[0;34m)\u001b[0m\u001b[0;34m)\u001b[0m\u001b[0;34m\u001b[0m\u001b[0m\n\u001b[1;32m     46\u001b[0m     \u001b[0mnp\u001b[0m\u001b[0;34m.\u001b[0m\u001b[0mrandom\u001b[0m\u001b[0;34m.\u001b[0m\u001b[0mshuffle\u001b[0m\u001b[0;34m(\u001b[0m\u001b[0mindices\u001b[0m\u001b[0;34m)\u001b[0m\u001b[0;34m\u001b[0m\u001b[0m\n",
      "\u001b[0;31mValueError\u001b[0m: not enough values to unpack (expected 2, got 1)"
     ]
    }
   ],
   "source": [
    "from keras.models import Model\n",
    "from keras.layers import Dense, Activation,Embedding,Input,concatenate,multiply,Flatten\n",
    "import numpy as np\n",
    "import ncf_helper as helper\n",
    "import keras.layers as layers\n",
    "from keras import initializers\n",
    "\n",
    "\n",
    "num_predictive_factors = 8\n",
    "batch_size = 2\n",
    "# embedding size is 2 * num_predictive_factors if MLP is 3 layered\n",
    "\n",
    "interaction_mx = np.load('input/int_mat.npy')\n",
    "# load data\n",
    "inputs, labels = helper.training_data_generation('input/training_data.npy',interaction_mx,5)\n",
    "\n",
    "\n",
    "#https://datascience.stackexchange.com/questions/13428/what-is-the-significance-of-model-merging-in-keras\n",
    "user_input = Input(shape=(1,),name='user_input')\n",
    "item_input = Input(shape=(1,),name='item_input')\n",
    "\n",
    "user_embed = Flatten()(Embedding(interaction_mx.shape[0] + 1,\n",
    "                                 num_predictive_factors * 2,\n",
    "                                 #W_regularizer = l2(0.01),\n",
    "                                 input_length=1,\n",
    "                                 #dropout = 0.3,\n",
    "                                 embeddings_initializer = initializers.RandomNormal(mean = 0.0, stddev=0.01, seed=None))(user_input))\n",
    "item_embed = Flatten()(Embedding(interaction_mx.shape[1] + 1,\n",
    "                                 num_predictive_factors * 2,\n",
    "                                 #W_regularizer = l2(0.01),\n",
    "                                 input_length=1,\n",
    "                                 #dropout = 0.3,\n",
    "                                 embeddings_initializer = initializers.RandomNormal(mean = 0.0, stddev=0.01, seed=None))(item_input))\n",
    "merged_embed = multiply([user_embed, item_embed])\n",
    "\n",
    "main_output = Dense(1, activation='sigmoid',name='main_output')(merged_embed)\n",
    "\n",
    "model = Model(inputs=[user_input, item_input], output=main_output)\n",
    "model.compile(optimizer='Adam',\n",
    "              loss='binary_crossentropy',\n",
    "              metrics=['accuracy'])\n",
    "\n",
    "model.fit(inputs, labels, batch_size = 256, epochs = 2)\n"
   ]
  }
 ],
 "metadata": {
  "kernelspec": {
   "display_name": "Python 3",
   "language": "python",
   "name": "python3"
  },
  "language_info": {
   "codemirror_mode": {
    "name": "ipython",
    "version": 3
   },
   "file_extension": ".py",
   "mimetype": "text/x-python",
   "name": "python",
   "nbconvert_exporter": "python",
   "pygments_lexer": "ipython3",
   "version": "3.6.1"
  }
 },
 "nbformat": 4,
 "nbformat_minor": 2
}
