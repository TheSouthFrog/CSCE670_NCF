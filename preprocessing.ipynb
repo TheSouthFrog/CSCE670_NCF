{
 "cells": [
  {
   "cell_type": "code",
   "execution_count": 1,
   "metadata": {
    "collapsed": false
   },
   "outputs": [
    {
     "name": "stdout",
     "output_type": "stream",
     "text": [
      "['userId', 'movieId', 'rating', 'timestamp']\n"
     ]
    }
   ],
   "source": [
    "# read data from ratings.csv, userId, movieId, timestamp\n",
    "import csv\n",
    " \n",
    "file_path = 'ratings.csv'\n",
    "with open(file_path, 'rb') as f:\n",
    "    reader = csv.reader(f)\n",
    "    your_list = list(reader)\n",
    "\n",
    "print your_list[0]"
   ]
  },
  {
   "cell_type": "code",
   "execution_count": 2,
   "metadata": {
    "collapsed": false
   },
   "outputs": [
    {
     "name": "stdout",
     "output_type": "stream",
     "text": [
      "[['1', '2', '3.5', '1112486027'], ['1', '29', '3.5', '1112484676'], ['1', '32', '3.5', '1112484819'], ['1', '47', '3.5', '1112484727'], ['1', '50', '3.5', '1112484580'], ['1', '112', '3.5', '1094785740'], ['1', '151', '4.0', '1094785734'], ['1', '223', '4.0', '1112485573'], ['1', '253', '4.0', '1112484940'], ['1', '260', '4.0', '1112484826'], ['1', '293', '4.0', '1112484703'], ['1', '296', '4.0', '1112484767'], ['1', '318', '4.0', '1112484798'], ['1', '337', '3.5', '1094785709'], ['1', '367', '3.5', '1112485980'], ['1', '541', '4.0', '1112484603'], ['1', '589', '3.5', '1112485557'], ['1', '593', '3.5', '1112484661'], ['1', '653', '3.0', '1094785691'], ['1', '919', '3.5', '1094785621'], ['1', '924', '3.5', '1094785598'], ['1', '1009', '3.5', '1112486013'], ['1', '1036', '4.0', '1112485480'], ['1', '1079', '4.0', '1094785665'], ['1', '1080', '3.5', '1112485375'], ['1', '1089', '3.5', '1112484669'], ['1', '1090', '4.0', '1112485453'], ['1', '1097', '4.0', '1112485701'], ['1', '1136', '3.5', '1112484609'], ['1', '1193', '3.5', '1112484690'], ['1', '1196', '4.5', '1112484742'], ['1', '1198', '4.5', '1112484624'], ['1', '1200', '4.0', '1112484560'], ['1', '1201', '3.0', '1112484642'], ['1', '1208', '3.5', '1112484815'], ['1', '1214', '4.0', '1094785977'], ['1', '1215', '4.0', '1094786082'], ['1', '1217', '3.5', '1112484810'], ['1', '1219', '4.0', '1094785994'], ['1', '1222', '3.5', '1112484637'], ['1', '1240', '4.0', '1112485401'], ['1', '1243', '3.0', '1112485567'], ['1', '1246', '3.5', '1094785759'], ['1', '1249', '4.0', '1112485382'], ['1', '1258', '4.0', '1094785994'], ['1', '1259', '4.0', '1112485440'], ['1', '1261', '3.5', '1094786113'], ['1', '1262', '3.5', '1112484735'], ['1', '1266', '4.0', '1112485371']]\n"
     ]
    }
   ],
   "source": [
    "print your_list[1:50]"
   ]
  },
  {
   "cell_type": "code",
   "execution_count": 3,
   "metadata": {
    "collapsed": false
   },
   "outputs": [],
   "source": [
    "# build tow dictionaries\n",
    "user_dic = {}\n",
    "movie_dic = {}\n",
    "\n",
    "# for i in range(1, len(your_list)):\n",
    "for i in range(1, 50):\n",
    "    user = your_list[i][0]\n",
    "    movie = your_list[i][1]\n",
    "    rating = your_list[i][2]\n",
    "    \n",
    "    if user_dic.has_key(user):\n",
    "        movie_rating_dic = user_dic[user]\n",
    "        movie_rating_dic[movie] = rating\n",
    "        \n",
    "        user_dic[user] = movie_rating_dic\n",
    "    else:\n",
    "        movie_rating_dic = {}\n",
    "        movie_rating_dic[movie] = rating\n",
    "        \n",
    "        user_dic[user] = {}\n",
    "        user_dic[user] = movie_rating_dic\n",
    "        \n",
    "        \n",
    "    if movie_dic.has_key(movie):\n",
    "        user_rating_dic = movie_dic[movie]\n",
    "        user_rating_dic[movie] = rating\n",
    "        \n",
    "        movie_dic[user] = user_rating_dic\n",
    "    else:\n",
    "        user_rating_dic = {}\n",
    "        user_rating_dic[movie] = rating\n",
    "        \n",
    "        movie_dic[user] = {}\n",
    "        movie_dic[user] = user_rating_dic\n",
    "        \n",
    "        \n",
    "    "
   ]
  },
  {
   "cell_type": "code",
   "execution_count": 4,
   "metadata": {
    "collapsed": false
   },
   "outputs": [
    {
     "name": "stdout",
     "output_type": "stream",
     "text": [
      "1 {'151': '4.0', '593': '3.5', '318': '4.0', '1208': '3.5', '1080': '3.5', '1262': '3.5', '337': '3.5', '1201': '3.0', '1200': '4.0', '1089': '3.5', '112': '3.5', '253': '4.0', '1222': '3.5', '541': '4.0', '1079': '4.0', '47': '3.5', '1193': '3.5', '1215': '4.0', '1266': '4.0', '29': '3.5', '1196': '4.5', '2': '3.5', '919': '3.5', '653': '3.0', '367': '3.5', '1036': '4.0', '1261': '3.5', '1258': '4.0', '1259': '4.0', '1097': '4.0', '1090': '4.0', '1217': '3.5', '1214': '4.0', '1198': '4.5', '1219': '4.0', '1136': '3.5', '589': '3.5', '1249': '4.0', '260': '4.0', '223': '4.0', '32': '3.5', '50': '3.5', '1240': '4.0', '1243': '3.0', '1009': '3.5', '1246': '3.5', '296': '4.0', '924': '3.5', '293': '4.0'}\n"
     ]
    }
   ],
   "source": [
    "for k, v in user_dic.iteritems():\n",
    "    print k, v"
   ]
  }
 ],
 "metadata": {
  "kernelspec": {
   "display_name": "Python 2",
   "language": "python",
   "name": "python2"
  },
  "language_info": {
   "codemirror_mode": {
    "name": "ipython",
    "version": 2
   },
   "file_extension": ".py",
   "mimetype": "text/x-python",
   "name": "python",
   "nbconvert_exporter": "python",
   "pygments_lexer": "ipython2",
   "version": "2.7.13"
  }
 },
 "nbformat": 4,
 "nbformat_minor": 2
}
