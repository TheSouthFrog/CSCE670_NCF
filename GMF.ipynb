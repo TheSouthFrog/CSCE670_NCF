{
 "cells": [
  {
   "cell_type": "code",
   "execution_count": 1,
   "metadata": {},
   "outputs": [
    {
     "name": "stderr",
     "output_type": "stream",
     "text": [
      "Using Theano backend.\n"
     ]
    }
   ],
   "source": [
    "from keras.models import Sequential\n",
    "from keras.layers import Dense\n",
    "import numpy as np"
   ]
  },
  {
   "cell_type": "code",
   "execution_count": 6,
   "metadata": {
    "collapsed": true
   },
   "outputs": [],
   "source": [
    "from keras.layers.embeddings import Embedding"
   ]
  },
  {
   "cell_type": "code",
   "execution_count": 47,
   "metadata": {},
   "outputs": [],
   "source": [
    "model = Sequential()\n",
    "#input_length = length of each user vector U\n",
    "#maxInputValue = maximum number found in each user vector U\n",
    "#model.add(Embedding(maxInputValue, outputDimension, input_length))\n",
    "model.add(Embedding(2, 10, input_length=10))\n",
    "# the model will take as input an integer matrix of size (batch, input_length).\n",
    "# the largest integer (i.e. word index) in the input should be no larger than 999 (vocabulary size).\n",
    "# now model.output_shape == (None, 10, 64), where None is the batch dimension.\n",
    "\n",
    "#Three arrays of length 10 each one.\n",
    "input_array = np.random.randint(2, size=(3, 10))\n",
    "\n",
    "model.compile('rmsprop', 'mse')\n",
    "output_array = model.predict(input_array)\n",
    "#assert output_array.shape == (5, 10, 2)"
   ]
  },
  {
   "cell_type": "code",
   "execution_count": 48,
   "metadata": {},
   "outputs": [
    {
     "data": {
      "text/plain": [
       "array([[[-0.03473685,  0.01433266,  0.04319336, -0.0206069 ,  0.01015187,\n",
       "         -0.00163422, -0.0239816 ,  0.03942763,  0.03344498, -0.04863735],\n",
       "        [-0.03073677,  0.04043296, -0.04675063, -0.01725099,  0.02059695,\n",
       "          0.01010391, -0.04378504, -0.02294824,  0.03330457, -0.01042753],\n",
       "        [-0.03473685,  0.01433266,  0.04319336, -0.0206069 ,  0.01015187,\n",
       "         -0.00163422, -0.0239816 ,  0.03942763,  0.03344498, -0.04863735],\n",
       "        [-0.03473685,  0.01433266,  0.04319336, -0.0206069 ,  0.01015187,\n",
       "         -0.00163422, -0.0239816 ,  0.03942763,  0.03344498, -0.04863735],\n",
       "        [-0.03073677,  0.04043296, -0.04675063, -0.01725099,  0.02059695,\n",
       "          0.01010391, -0.04378504, -0.02294824,  0.03330457, -0.01042753],\n",
       "        [-0.03073677,  0.04043296, -0.04675063, -0.01725099,  0.02059695,\n",
       "          0.01010391, -0.04378504, -0.02294824,  0.03330457, -0.01042753],\n",
       "        [-0.03073677,  0.04043296, -0.04675063, -0.01725099,  0.02059695,\n",
       "          0.01010391, -0.04378504, -0.02294824,  0.03330457, -0.01042753],\n",
       "        [-0.03473685,  0.01433266,  0.04319336, -0.0206069 ,  0.01015187,\n",
       "         -0.00163422, -0.0239816 ,  0.03942763,  0.03344498, -0.04863735],\n",
       "        [-0.03073677,  0.04043296, -0.04675063, -0.01725099,  0.02059695,\n",
       "          0.01010391, -0.04378504, -0.02294824,  0.03330457, -0.01042753],\n",
       "        [-0.03473685,  0.01433266,  0.04319336, -0.0206069 ,  0.01015187,\n",
       "         -0.00163422, -0.0239816 ,  0.03942763,  0.03344498, -0.04863735]],\n",
       "\n",
       "       [[-0.03473685,  0.01433266,  0.04319336, -0.0206069 ,  0.01015187,\n",
       "         -0.00163422, -0.0239816 ,  0.03942763,  0.03344498, -0.04863735],\n",
       "        [-0.03473685,  0.01433266,  0.04319336, -0.0206069 ,  0.01015187,\n",
       "         -0.00163422, -0.0239816 ,  0.03942763,  0.03344498, -0.04863735],\n",
       "        [-0.03473685,  0.01433266,  0.04319336, -0.0206069 ,  0.01015187,\n",
       "         -0.00163422, -0.0239816 ,  0.03942763,  0.03344498, -0.04863735],\n",
       "        [-0.03073677,  0.04043296, -0.04675063, -0.01725099,  0.02059695,\n",
       "          0.01010391, -0.04378504, -0.02294824,  0.03330457, -0.01042753],\n",
       "        [-0.03473685,  0.01433266,  0.04319336, -0.0206069 ,  0.01015187,\n",
       "         -0.00163422, -0.0239816 ,  0.03942763,  0.03344498, -0.04863735],\n",
       "        [-0.03073677,  0.04043296, -0.04675063, -0.01725099,  0.02059695,\n",
       "          0.01010391, -0.04378504, -0.02294824,  0.03330457, -0.01042753],\n",
       "        [-0.03073677,  0.04043296, -0.04675063, -0.01725099,  0.02059695,\n",
       "          0.01010391, -0.04378504, -0.02294824,  0.03330457, -0.01042753],\n",
       "        [-0.03473685,  0.01433266,  0.04319336, -0.0206069 ,  0.01015187,\n",
       "         -0.00163422, -0.0239816 ,  0.03942763,  0.03344498, -0.04863735],\n",
       "        [-0.03073677,  0.04043296, -0.04675063, -0.01725099,  0.02059695,\n",
       "          0.01010391, -0.04378504, -0.02294824,  0.03330457, -0.01042753],\n",
       "        [-0.03473685,  0.01433266,  0.04319336, -0.0206069 ,  0.01015187,\n",
       "         -0.00163422, -0.0239816 ,  0.03942763,  0.03344498, -0.04863735]],\n",
       "\n",
       "       [[-0.03073677,  0.04043296, -0.04675063, -0.01725099,  0.02059695,\n",
       "          0.01010391, -0.04378504, -0.02294824,  0.03330457, -0.01042753],\n",
       "        [-0.03073677,  0.04043296, -0.04675063, -0.01725099,  0.02059695,\n",
       "          0.01010391, -0.04378504, -0.02294824,  0.03330457, -0.01042753],\n",
       "        [-0.03473685,  0.01433266,  0.04319336, -0.0206069 ,  0.01015187,\n",
       "         -0.00163422, -0.0239816 ,  0.03942763,  0.03344498, -0.04863735],\n",
       "        [-0.03073677,  0.04043296, -0.04675063, -0.01725099,  0.02059695,\n",
       "          0.01010391, -0.04378504, -0.02294824,  0.03330457, -0.01042753],\n",
       "        [-0.03073677,  0.04043296, -0.04675063, -0.01725099,  0.02059695,\n",
       "          0.01010391, -0.04378504, -0.02294824,  0.03330457, -0.01042753],\n",
       "        [-0.03473685,  0.01433266,  0.04319336, -0.0206069 ,  0.01015187,\n",
       "         -0.00163422, -0.0239816 ,  0.03942763,  0.03344498, -0.04863735],\n",
       "        [-0.03473685,  0.01433266,  0.04319336, -0.0206069 ,  0.01015187,\n",
       "         -0.00163422, -0.0239816 ,  0.03942763,  0.03344498, -0.04863735],\n",
       "        [-0.03073677,  0.04043296, -0.04675063, -0.01725099,  0.02059695,\n",
       "          0.01010391, -0.04378504, -0.02294824,  0.03330457, -0.01042753],\n",
       "        [-0.03473685,  0.01433266,  0.04319336, -0.0206069 ,  0.01015187,\n",
       "         -0.00163422, -0.0239816 ,  0.03942763,  0.03344498, -0.04863735],\n",
       "        [-0.03073677,  0.04043296, -0.04675063, -0.01725099,  0.02059695,\n",
       "          0.01010391, -0.04378504, -0.02294824,  0.03330457, -0.01042753]]], dtype=float32)"
      ]
     },
     "execution_count": 48,
     "metadata": {},
     "output_type": "execute_result"
    }
   ],
   "source": [
    "output_array"
   ]
  },
  {
   "cell_type": "code",
   "execution_count": 5,
   "metadata": {},
   "outputs": [
    {
     "ename": "ValueError",
     "evalue": "Error when checking model input: expected embedding_1_input to have shape (None, 10) but got array with shape (768L, 8L)",
     "output_type": "error",
     "traceback": [
      "\u001b[1;31m---------------------------------------------------------------------------\u001b[0m",
      "\u001b[1;31mValueError\u001b[0m                                Traceback (most recent call last)",
      "\u001b[1;32m<ipython-input-5-940d4cc2745a>\u001b[0m in \u001b[0;36m<module>\u001b[1;34m()\u001b[0m\n\u001b[0;32m     15\u001b[0m \u001b[0mmodel\u001b[0m\u001b[1;33m.\u001b[0m\u001b[0mcompile\u001b[0m\u001b[1;33m(\u001b[0m\u001b[0mloss\u001b[0m\u001b[1;33m=\u001b[0m\u001b[1;34m'binary_crossentropy'\u001b[0m\u001b[1;33m,\u001b[0m \u001b[0moptimizer\u001b[0m\u001b[1;33m=\u001b[0m\u001b[1;34m'adam'\u001b[0m\u001b[1;33m,\u001b[0m \u001b[0mmetrics\u001b[0m\u001b[1;33m=\u001b[0m\u001b[1;33m[\u001b[0m\u001b[1;34m'accuracy'\u001b[0m\u001b[1;33m]\u001b[0m\u001b[1;33m)\u001b[0m\u001b[1;33m\u001b[0m\u001b[0m\n\u001b[0;32m     16\u001b[0m \u001b[1;31m# Fit the model\u001b[0m\u001b[1;33m\u001b[0m\u001b[1;33m\u001b[0m\u001b[0m\n\u001b[1;32m---> 17\u001b[1;33m \u001b[0mmodel\u001b[0m\u001b[1;33m.\u001b[0m\u001b[0mfit\u001b[0m\u001b[1;33m(\u001b[0m\u001b[0mX\u001b[0m\u001b[1;33m,\u001b[0m \u001b[0mY\u001b[0m\u001b[1;33m,\u001b[0m \u001b[0mepochs\u001b[0m\u001b[1;33m=\u001b[0m\u001b[1;36m150\u001b[0m\u001b[1;33m,\u001b[0m \u001b[0mbatch_size\u001b[0m\u001b[1;33m=\u001b[0m\u001b[1;36m10\u001b[0m\u001b[1;33m,\u001b[0m \u001b[0mverbose\u001b[0m\u001b[1;33m=\u001b[0m\u001b[1;36m0\u001b[0m\u001b[1;33m)\u001b[0m\u001b[1;33m\u001b[0m\u001b[0m\n\u001b[0m\u001b[0;32m     18\u001b[0m \u001b[1;31m# evaluate the model\u001b[0m\u001b[1;33m\u001b[0m\u001b[1;33m\u001b[0m\u001b[0m\n\u001b[0;32m     19\u001b[0m \u001b[0mscores\u001b[0m \u001b[1;33m=\u001b[0m \u001b[0mmodel\u001b[0m\u001b[1;33m.\u001b[0m\u001b[0mevaluate\u001b[0m\u001b[1;33m(\u001b[0m\u001b[0mX\u001b[0m\u001b[1;33m,\u001b[0m \u001b[0mY\u001b[0m\u001b[1;33m)\u001b[0m\u001b[1;33m\u001b[0m\u001b[0m\n",
      "\u001b[1;32mC:\\Users\\ROGER\\Anaconda2\\envs\\NOTDOT\\lib\\site-packages\\keras\\models.pyc\u001b[0m in \u001b[0;36mfit\u001b[1;34m(self, x, y, batch_size, epochs, verbose, callbacks, validation_split, validation_data, shuffle, class_weight, sample_weight, initial_epoch, **kwargs)\u001b[0m\n\u001b[0;32m    843\u001b[0m                               \u001b[0mclass_weight\u001b[0m\u001b[1;33m=\u001b[0m\u001b[0mclass_weight\u001b[0m\u001b[1;33m,\u001b[0m\u001b[1;33m\u001b[0m\u001b[0m\n\u001b[0;32m    844\u001b[0m                               \u001b[0msample_weight\u001b[0m\u001b[1;33m=\u001b[0m\u001b[0msample_weight\u001b[0m\u001b[1;33m,\u001b[0m\u001b[1;33m\u001b[0m\u001b[0m\n\u001b[1;32m--> 845\u001b[1;33m                               initial_epoch=initial_epoch)\n\u001b[0m\u001b[0;32m    846\u001b[0m \u001b[1;33m\u001b[0m\u001b[0m\n\u001b[0;32m    847\u001b[0m     def evaluate(self, x, y, batch_size=32, verbose=1,\n",
      "\u001b[1;32mC:\\Users\\ROGER\\Anaconda2\\envs\\NOTDOT\\lib\\site-packages\\keras\\engine\\training.pyc\u001b[0m in \u001b[0;36mfit\u001b[1;34m(self, x, y, batch_size, epochs, verbose, callbacks, validation_split, validation_data, shuffle, class_weight, sample_weight, initial_epoch, **kwargs)\u001b[0m\n\u001b[0;32m   1403\u001b[0m             \u001b[0mclass_weight\u001b[0m\u001b[1;33m=\u001b[0m\u001b[0mclass_weight\u001b[0m\u001b[1;33m,\u001b[0m\u001b[1;33m\u001b[0m\u001b[0m\n\u001b[0;32m   1404\u001b[0m             \u001b[0mcheck_batch_axis\u001b[0m\u001b[1;33m=\u001b[0m\u001b[0mFalse\u001b[0m\u001b[1;33m,\u001b[0m\u001b[1;33m\u001b[0m\u001b[0m\n\u001b[1;32m-> 1405\u001b[1;33m             batch_size=batch_size)\n\u001b[0m\u001b[0;32m   1406\u001b[0m         \u001b[1;31m# prepare validation data\u001b[0m\u001b[1;33m\u001b[0m\u001b[1;33m\u001b[0m\u001b[0m\n\u001b[0;32m   1407\u001b[0m         \u001b[1;32mif\u001b[0m \u001b[0mvalidation_data\u001b[0m\u001b[1;33m:\u001b[0m\u001b[1;33m\u001b[0m\u001b[0m\n",
      "\u001b[1;32mC:\\Users\\ROGER\\Anaconda2\\envs\\NOTDOT\\lib\\site-packages\\keras\\engine\\training.pyc\u001b[0m in \u001b[0;36m_standardize_user_data\u001b[1;34m(self, x, y, sample_weight, class_weight, check_batch_axis, batch_size)\u001b[0m\n\u001b[0;32m   1293\u001b[0m                                     \u001b[0mself\u001b[0m\u001b[1;33m.\u001b[0m\u001b[0m_feed_input_shapes\u001b[0m\u001b[1;33m,\u001b[0m\u001b[1;33m\u001b[0m\u001b[0m\n\u001b[0;32m   1294\u001b[0m                                     \u001b[0mcheck_batch_axis\u001b[0m\u001b[1;33m=\u001b[0m\u001b[0mFalse\u001b[0m\u001b[1;33m,\u001b[0m\u001b[1;33m\u001b[0m\u001b[0m\n\u001b[1;32m-> 1295\u001b[1;33m                                     exception_prefix='model input')\n\u001b[0m\u001b[0;32m   1296\u001b[0m         y = _standardize_input_data(y, self._feed_output_names,\n\u001b[0;32m   1297\u001b[0m                                     \u001b[0moutput_shapes\u001b[0m\u001b[1;33m,\u001b[0m\u001b[1;33m\u001b[0m\u001b[0m\n",
      "\u001b[1;32mC:\\Users\\ROGER\\Anaconda2\\envs\\NOTDOT\\lib\\site-packages\\keras\\engine\\training.pyc\u001b[0m in \u001b[0;36m_standardize_input_data\u001b[1;34m(data, names, shapes, check_batch_axis, exception_prefix)\u001b[0m\n\u001b[0;32m    131\u001b[0m                             \u001b[1;34m' to have shape '\u001b[0m \u001b[1;33m+\u001b[0m \u001b[0mstr\u001b[0m\u001b[1;33m(\u001b[0m\u001b[0mshapes\u001b[0m\u001b[1;33m[\u001b[0m\u001b[0mi\u001b[0m\u001b[1;33m]\u001b[0m\u001b[1;33m)\u001b[0m \u001b[1;33m+\u001b[0m\u001b[1;33m\u001b[0m\u001b[0m\n\u001b[0;32m    132\u001b[0m                             \u001b[1;34m' but got array with shape '\u001b[0m \u001b[1;33m+\u001b[0m\u001b[1;33m\u001b[0m\u001b[0m\n\u001b[1;32m--> 133\u001b[1;33m                             str(array.shape))\n\u001b[0m\u001b[0;32m    134\u001b[0m     \u001b[1;32mreturn\u001b[0m \u001b[0marrays\u001b[0m\u001b[1;33m\u001b[0m\u001b[0m\n\u001b[0;32m    135\u001b[0m \u001b[1;33m\u001b[0m\u001b[0m\n",
      "\u001b[1;31mValueError\u001b[0m: Error when checking model input: expected embedding_1_input to have shape (None, 10) but got array with shape (768L, 8L)"
     ]
    }
   ],
   "source": [
    "# fix random seed for reproducibility\n",
    "np.random.seed(7)\n",
    "# load pima indians dataset\n",
    "dataset = np.loadtxt(\"pima-indians-diabetes.csv\", delimiter=\",\")\n",
    "# split into input (X) and output (Y) variables\n",
    "X = dataset[:,0:8]\n",
    "Y = dataset[:,8]\n",
    "# create model\n",
    "model = Sequential()\n",
    "#o is the desired new dimension\n",
    "#k is the number of latent vectors\n",
    "#largestInputValue = 2, so the values are between 0 and 1\n",
    "#model.add(Embedding(largestInputValue, o, input_length=k))\n",
    "model.add(Dense(12, input_dim=8, activation='relu'))\n",
    "model.add(Dense(8, activation='relu'))\n",
    "model.add(Dense(1, activation='sigmoid'))\n",
    "# Compile model\n",
    "model.compile(loss='binary_crossentropy', optimizer='adam', metrics=['accuracy'])\n",
    "# Fit the model\n",
    "model.fit(X, Y, epochs=150, batch_size=10, verbose=0)\n",
    "# evaluate the model\n",
    "scores = model.evaluate(X, Y)\n",
    "print(\"\\n%s: %.2f%%\" % (model.metrics_names[1], scores[1]*100))"
   ]
  },
  {
   "cell_type": "code",
   "execution_count": null,
   "metadata": {
    "collapsed": true
   },
   "outputs": [],
   "source": []
  }
 ],
 "metadata": {
  "kernelspec": {
   "display_name": "Python 2",
   "language": "python",
   "name": "python2"
  },
  "language_info": {
   "codemirror_mode": {
    "name": "ipython",
    "version": 2
   },
   "file_extension": ".py",
   "mimetype": "text/x-python",
   "name": "python",
   "nbconvert_exporter": "python",
   "pygments_lexer": "ipython2",
   "version": "2.7.13"
  }
 },
 "nbformat": 4,
 "nbformat_minor": 2
}
